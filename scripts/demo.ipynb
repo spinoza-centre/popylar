{
 "cells": [
  {
   "cell_type": "code",
   "execution_count": 1,
   "metadata": {},
   "outputs": [
    {
     "name": "stderr",
     "output_type": "stream",
     "text": [
      "/Users/knapen/software/miniconda3/envs/popylar/lib/python3.9/site-packages/nilearn/glm/__init__.py:55: FutureWarning: The nilearn.glm module is experimental. It may change in any future release of Nilearn.\n",
      "  warn('The nilearn.glm module is experimental. '\n"
     ]
    }
   ],
   "source": [
    "%load_ext autoreload\n",
    "%autoreload 2\n",
    "\n",
    "import os, subprocess, urllib, tempfile, importlib\n",
    "\n",
    "import numpy as np\n",
    "import scipy.stats as stats\n",
    "import pandas as pd\n",
    "import matplotlib.pyplot as plt\n",
    "import seaborn as sns\n",
    "import cortex as cx\n",
    "\n",
    "from nilearn.surface import load_surf_data\n",
    "from scipy.io import loadmat\n",
    "from scipy.ndimage import gaussian_filter, zoom\n",
    "\n",
    "import popylar"
   ]
  },
  {
   "cell_type": "markdown",
   "metadata": {},
   "source": [
    "### Download data for demonstration"
   ]
  },
  {
   "cell_type": "code",
   "execution_count": 2,
   "metadata": {},
   "outputs": [],
   "source": [
    "#\n",
    "# download a pycortex subject (flatmap, etc) \n",
    "# of the 1.6 mm HCP standard surfaces from figshare\n",
    "#\n",
    "\n",
    "if not os.path.exists(os.path.join(cx.database.default_filestore, 'hcp_999999')):\n",
    "    pycortex_sj_URL = \"https://ndownloader.figshare.com/files/25768841\"\n",
    "\n",
    "    tempfolder = tempfile.gettempdir()\n",
    "    urllib.request.urlretrieve(pycortex_sj_URL, os.path.join(tempfolder, 'hcp_999999.zip'))\n",
    "    subprocess.run(['unzip', '-q', '-n', \n",
    "                    os.path.join(tempfolder, \"hcp_999999.zip\"), \n",
    "                    '-d', cx.database.default_filestore])\n",
    "\n",
    "#\n",
    "# and then download several projects' data from figshare\n",
    "# and extract the prf experiment data\n",
    "#\n",
    "with importlib.resources.files(popylar) as package:\n",
    "    prf_data_folder = package / 'data' / 'demo'  / 'prf_mapper_59k'\n",
    "    atlas_folder = package / 'data' / 'demo' / 'atlas'\n",
    "    if not os.path.exists(prf_data_folder):\n",
    "        timeseries_data_URL = 'https://ndownloader.figshare.com/articles/14096209/versions/3'\n",
    "        urllib.request.urlretrieve(timeseries_data_URL, os.path.join(tempfolder, '14096209.zip'))\n",
    "        subprocess.run(['unzip', '-qq', '-n', \n",
    "                        os.path.join(tempfolder, '14096209.zip'), '-d', tempfolder])\n",
    "        subprocess.run(['unzip', '-qq', '-n', \n",
    "                        os.path.join(tempfolder, 'prf_mapper_59k.zip'), '-d', \n",
    "                        prf_data_folder])                \n",
    "        subprocess.run(['unzip', '-qq', '-n', \n",
    "                        os.path.join(tempfolder, 'atlas.zip'), '-d', \n",
    "                        os.path.split(atlas_folder)[0]])           \n"
   ]
  },
  {
   "cell_type": "markdown",
   "metadata": {},
   "source": [
    "### Load data "
   ]
  },
  {
   "cell_type": "code",
   "execution_count": 3,
   "metadata": {},
   "outputs": [],
   "source": [
    "tseries_raw = np.nan_to_num(np.concatenate([load_surf_data(os.path.join(prf_data_folder, \n",
    "                                                f'sub-02_task-prf_space-59k_hemi-{hemi}_run-median_desc-bold.func.gii'))\n",
    "                                for hemi in ['L', 'R']]))\n",
    "atlas_data = np.concatenate([load_surf_data(\n",
    "        os.path.join(atlas_folder, f'Q1-Q6_RelatedParcellation210.CorticalAreas_dil_Colors.59k_fs_LR.dlabel.{hemi}.gii'))\n",
    "         for hemi in ['L', 'R']])\n",
    "atlas_data_both_hemis = np.mod(atlas_data, 180)"
   ]
  },
  {
   "cell_type": "code",
   "execution_count": 4,
   "metadata": {},
   "outputs": [],
   "source": [
    "design_matrix = loadmat(os.path.join(prf_data_folder, 'vis_design.mat'))['stim'].T\n",
    "sm_design_matrix = np.array([gaussian_filter(dmt, 8).T for dmt in design_matrix])\n",
    "sm_design_matrix = np.array([zoom(smd, 1/3) for smd in sm_design_matrix])\n",
    "sm_design_matrix = sm_design_matrix.transpose((2,1,0))"
   ]
  },
  {
   "cell_type": "markdown",
   "metadata": {},
   "source": [
    "### Create necessary popylar objects"
   ]
  },
  {
   "cell_type": "code",
   "execution_count": 5,
   "metadata": {},
   "outputs": [],
   "source": [
    "stim = popylar.stimuli.PRFStimulus2D(design_matrix=sm_design_matrix,\n",
    "                     sample_rate=1/1.5,\n",
    "                     screen_size_cm=60,\n",
    "                     screen_distance_cm=210)"
   ]
  },
  {
   "cell_type": "code",
   "execution_count": 6,
   "metadata": {},
   "outputs": [],
   "source": [
    "hrf = popylar.signal.HRF(sample_rate=stim.sample_rate,\n",
    "                        hrf_type='spm')\n",
    "\n",
    "filt = popylar.signal.DCT_Filter(n_timepoints=stim.n_timepoints,\n",
    "                sample_rate=stim.sample_rate,\n",
    "                highpass_freq= 250)\n",
    "\n",
    "model = popylar.models.Iso2DGaussianModel(\n",
    "    stimulus=stim,\n",
    "    irf=hrf)"
   ]
  },
  {
   "cell_type": "code",
   "execution_count": 9,
   "metadata": {},
   "outputs": [
    {
     "name": "stdout",
     "output_type": "stream",
     "text": [
      "(120,) (118584, 120)\n"
     ]
    },
    {
     "name": "stderr",
     "output_type": "stream",
     "text": [
      "/var/folders/vr/m_p1yr2d687bgmqdsr5_x5qr0000gn/T/ipykernel_1293/1637942036.py:8: RuntimeWarning: divide by zero encountered in true_divide\n",
      "  tseries_psc = 100 * (tseries_filt-np.median(tseries_filt, -1)[:,np.newaxis])/np.median(tseries_filt, -1)[:,np.newaxis]\n",
      "/var/folders/vr/m_p1yr2d687bgmqdsr5_x5qr0000gn/T/ipykernel_1293/1637942036.py:8: RuntimeWarning: invalid value encountered in true_divide\n",
      "  tseries_psc = 100 * (tseries_filt-np.median(tseries_filt, -1)[:,np.newaxis])/np.median(tseries_filt, -1)[:,np.newaxis]\n"
     ]
    }
   ],
   "source": [
    "data_filt = popylar.signal.DCT_Filter(n_timepoints=stim.n_timepoints,\n",
    "                sample_rate=stim.sample_rate,\n",
    "                highpass_freq= 250, \n",
    "                highpass_add='mean')\n",
    "\n",
    "tseries_filt0 = data_filt.filter(tseries_raw[0])\n",
    "tseries_filt = data_filt.filter(tseries_raw)\n",
    "tseries_psc = 100 * (tseries_filt-np.median(tseries_filt, -1)[:,np.newaxis])/np.median(tseries_filt, -1)[:,np.newaxis]\n",
    "\n"
   ]
  },
  {
   "cell_type": "code",
   "execution_count": null,
   "metadata": {},
   "outputs": [],
   "source": [
    "fitter = popylar.fitters.Iso2DGaussianFitter(data=tseries_filt,\n",
    "                                             model=model)"
   ]
  },
  {
   "cell_type": "markdown",
   "metadata": {},
   "source": [
    "### Start creating predictions and fitting them"
   ]
  },
  {
   "cell_type": "code",
   "execution_count": null,
   "metadata": {},
   "outputs": [],
   "source": [
    "fitter.create_grid_predictions(x_grid=np.linspace(-10,10,20), \n",
    "                               y_grid=np.linspace(-10,10,20),\n",
    "                               size_grid=np.linspace(0.5,4,20)**2)"
   ]
  },
  {
   "cell_type": "code",
   "execution_count": null,
   "metadata": {},
   "outputs": [
    {
     "name": "stderr",
     "output_type": "stream",
     "text": [
      "0it [00:00, ?it/s]/Users/knapen/projects/popylar/popylar/fitters/gauss_2D_iso.py:94: RuntimeWarning: invalid value encountered in greater\n",
      "  super().grid_fit(regressor_df=regressor_df,\n",
      "4767it [2:50:45,  1.65it/s]  "
     ]
    }
   ],
   "source": [
    "fitter.grid_fit()\n",
    "# dm = np.array([np.ones(stim.n_timepoints), fitter.grid_predictions[0]], dtype=np.float32).T\n",
    "# betas, rsq = popylar.fitters.fit_utils.fit_glm(data=tseries_raw, design_matrix=dm)"
   ]
  },
  {
   "cell_type": "code",
   "execution_count": null,
   "metadata": {},
   "outputs": [],
   "source": [
    "regressor_df = pd.DataFrame(np.ones((fitter.grid_predictions.shape[-1], 2)),\n",
    "                                        columns=['prf_baseline', 'prf_amplitude'])\n",
    "fitter.collect_grid_results(columns=regressor_df.columns)"
   ]
  },
  {
   "cell_type": "code",
   "execution_count": null,
   "metadata": {},
   "outputs": [
    {
     "data": {
      "text/plain": [
       "(array([1.18153e+05, 6.30000e+01, 7.00000e+01, 4.50000e+01, 3.20000e+01,\n",
       "        2.90000e+01, 2.00000e+01, 3.00000e+01, 4.10000e+01, 1.01000e+02]),\n",
       " array([0.        , 0.09991583, 0.19983165, 0.29974748, 0.39966331,\n",
       "        0.49957913, 0.59949496, 0.69941078, 0.79932661, 0.89924244,\n",
       "        0.99915826]),\n",
       " <a list of 10 Patch objects>)"
      ]
     },
     "execution_count": 21,
     "metadata": {},
     "output_type": "execute_result"
    },
    {
     "data": {
      "image/png": "[encoded data removed]",
      "text/plain": [
       "<Figure size 432x288 with 1 Axes>"
      ]
     },
     "metadata": {
      "needs_background": "light"
     },
     "output_type": "display_data"
    }
   ],
   "source": [
    "plt.hist(fitter.grid_fit_results['grid_rsq'])\n",
    "# fitter.grid_fit_results.shape, fitter.grid_xs.shape, fitter.best_fit_models.shape"
   ]
  },
  {
   "cell_type": "code",
   "execution_count": null,
   "metadata": {},
   "outputs": [
    {
     "ename": "SyntaxError",
     "evalue": "invalid syntax (3215722677.py, line 3)",
     "output_type": "error",
     "traceback": [
      "\u001b[0;36m  File \u001b[0;32m\"/var/folders/vr/m_p1yr2d687bgmqdsr5_x5qr0000gn/T/ipykernel_2922/3215722677.py\"\u001b[0;36m, line \u001b[0;32m3\u001b[0m\n\u001b[0;31m    y=stim.masked_coordinates[],\u001b[0m\n\u001b[0m                              ^\u001b[0m\n\u001b[0;31mSyntaxError\u001b[0m\u001b[0;31m:\u001b[0m invalid syntax\n"
     ]
    }
   ],
   "source": [
    "from popylar.rf import gauss2D_iso_cart\n",
    "rf = gauss2D_iso_cart(x=stim.masked_coordinates[1],\n",
    "                    y=stim.masked_coordinates[],\n",
    "                    mu=[4, -1],\n",
    "                    sigma=1.0)"
   ]
  },
  {
   "cell_type": "code",
   "execution_count": null,
   "metadata": {},
   "outputs": [],
   "source": [
    "f, ss = plt.subplots(1,2,figsize=(20,7))\n",
    "ss[0].imshow(rf.reshape(stim.y.T.shape))\n",
    "ss[1].imshow(np.rot90(rf.reshape(stim.y.T.shape)))"
   ]
  },
  {
   "cell_type": "code",
   "execution_count": null,
   "metadata": {},
   "outputs": [],
   "source": [
    "np.r_[np.ones((300,3)), np.ones((300))[:,np.newaxis]]"
   ]
  },
  {
   "cell_type": "code",
   "execution_count": null,
   "metadata": {},
   "outputs": [],
   "source": []
  }
 ],
 "metadata": {
  "interpreter": {
   "hash": "284b40ed76c0ddaa7a2d59fb0f3543062c5184cf760bb26e668bfe6d734deba2"
  },
  "kernelspec": {
   "display_name": "Python 3.9.7 ('popylar')",
   "language": "python",
   "name": "python3"
  },
  "language_info": {
   "codemirror_mode": {
    "name": "ipython",
    "version": 3
   },
   "file_extension": ".py",
   "mimetype": "text/x-python",
   "name": "python",
   "nbconvert_exporter": "python",
   "pygments_lexer": "ipython3",
   "version": "3.9.7"
  },
  "orig_nbformat": 4
 },
 "nbformat": 4,
 "nbformat_minor": 2
}
