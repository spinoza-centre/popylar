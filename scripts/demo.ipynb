{
 "cells": [
  {
   "cell_type": "code",
   "execution_count": 31,
   "metadata": {},
   "outputs": [
    {
     "name": "stdout",
     "output_type": "stream",
     "text": [
      "The autoreload extension is already loaded. To reload it, use:\n",
      "  %reload_ext autoreload\n"
     ]
    }
   ],
   "source": [
    "%load_ext autoreload\n",
    "%autoreload 2\n",
    "\n",
    "import os, subprocess, urllib, tempfile, importlib\n",
    "\n",
    "import numpy as np\n",
    "import scipy.stats as stats\n",
    "import matplotlib.pyplot as plt\n",
    "import seaborn as sns\n",
    "import cortex as cx\n",
    "\n",
    "from nilearn.surface import load_surf_data\n",
    "from scipy.io import loadmat\n",
    "from scipy.ndimage import gaussian_filter\n",
    "\n",
    "import popylar"
   ]
  },
  {
   "cell_type": "markdown",
   "metadata": {},
   "source": [
    "### Download data for demonstration"
   ]
  },
  {
   "cell_type": "code",
   "execution_count": 37,
   "metadata": {},
   "outputs": [],
   "source": [
    "#\n",
    "# download a pycortex subject (flatmap, etc) \n",
    "# of the 1.6 mm HCP standard surfaces from figshare\n",
    "#\n",
    "\n",
    "if not os.path.exists(os.path.join(cx.database.default_filestore, 'hcp_999999')):\n",
    "    pycortex_sj_URL = \"https://ndownloader.figshare.com/files/25768841\"\n",
    "\n",
    "    tempfolder = tempfile.gettempdir()\n",
    "    urllib.request.urlretrieve(pycortex_sj_URL, os.path.join(tempfolder, 'hcp_999999.zip'))\n",
    "    subprocess.run(['unzip', '-q', '-n', \n",
    "                    os.path.join(tempfolder, \"hcp_999999.zip\"), \n",
    "                    '-d', cx.database.default_filestore])\n",
    "\n",
    "#\n",
    "# and then download several projects' data from figshare\n",
    "# and extract the prf experiment data\n",
    "#\n",
    "with importlib.resources.files(popylar) as package:\n",
    "    prf_data_folder = package / 'data' / 'demo'  / 'prf_mapper_59k'\n",
    "    atlas_folder = package / 'data' / 'demo' / 'atlas'\n",
    "    if not os.path.exists(prf_data_folder):\n",
    "        timeseries_data_URL = 'https://ndownloader.figshare.com/articles/14096209/versions/3'\n",
    "        urllib.request.urlretrieve(timeseries_data_URL, os.path.join(tempfolder, '14096209.zip'))\n",
    "        subprocess.run(['unzip', '-qq', '-n', \n",
    "                        os.path.join(tempfolder, '14096209.zip'), '-d', tempfolder])\n",
    "        subprocess.run(['unzip', '-qq', '-n', \n",
    "                        os.path.join(tempfolder, 'prf_mapper_59k.zip'), '-d', \n",
    "                        prf_data_folder])                \n",
    "        subprocess.run(['unzip', '-qq', '-n', \n",
    "                        os.path.join(tempfolder, 'atlas.zip'), '-d', \n",
    "                        os.path.split(atlas_folder)[0]])           \n"
   ]
  },
  {
   "cell_type": "markdown",
   "metadata": {},
   "source": [
    "### Load data "
   ]
  },
  {
   "cell_type": "code",
   "execution_count": 46,
   "metadata": {},
   "outputs": [],
   "source": [
    "tseries_raw = np.nan_to_num(np.concatenate([load_surf_data(os.path.join(prf_data_folder, \n",
    "                                                f'sub-02_task-prf_space-59k_hemi-{hemi}_run-median_desc-bold.func.gii'))\n",
    "                                for hemi in ['L', 'R']]))\n",
    "atlas_data = np.concatenate([load_surf_data(\n",
    "        os.path.join(atlas_folder, f'Q1-Q6_RelatedParcellation210.CorticalAreas_dil_Colors.59k_fs_LR.dlabel.{hemi}.gii'))\n",
    "         for hemi in ['L', 'R']])\n",
    "atlas_data_both_hemis = np.mod(atlas_data, 180)\n",
    "design_matrix = loadmat(os.path.join(prf_data_folder, 'vis_design.mat'))['stim'].T\n",
    "sm_design_matrix = np.array([gaussian_filter(dmt, 10).T for dmt in design_matrix])"
   ]
  },
  {
   "cell_type": "code",
   "execution_count": 47,
   "metadata": {},
   "outputs": [
    {
     "data": {
      "text/plain": [
       "<matplotlib.image.AxesImage at 0x7fb6d0633d90>"
      ]
     },
     "execution_count": 47,
     "metadata": {},
     "output_type": "execute_result"
    },
    {
     "data": {
      "image/png": "[encoded data removed]",
      "text/plain": [
       "<Figure size 432x288 with 1 Axes>"
      ]
     },
     "metadata": {
      "needs_background": "light"
     },
     "output_type": "display_data"
    }
   ],
   "source": [
    "plt.imshow(sm_design_matrix[24])"
   ]
  },
  {
   "cell_type": "code",
   "execution_count": null,
   "metadata": {},
   "outputs": [],
   "source": []
  }
 ],
 "metadata": {
  "interpreter": {
   "hash": "284b40ed76c0ddaa7a2d59fb0f3543062c5184cf760bb26e668bfe6d734deba2"
  },
  "kernelspec": {
   "display_name": "Python 3.9.7 ('popylar')",
   "language": "python",
   "name": "python3"
  },
  "language_info": {
   "codemirror_mode": {
    "name": "ipython",
    "version": 3
   },
   "file_extension": ".py",
   "mimetype": "text/x-python",
   "name": "python",
   "nbconvert_exporter": "python",
   "pygments_lexer": "ipython3",
   "version": "3.9.7"
  },
  "orig_nbformat": 4
 },
 "nbformat": 4,
 "nbformat_minor": 2
}
