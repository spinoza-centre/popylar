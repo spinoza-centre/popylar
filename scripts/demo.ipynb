{
 "cells": [
  {
   "cell_type": "code",
   "execution_count": 1,
   "metadata": {},
   "outputs": [
    {
     "name": "stderr",
     "output_type": "stream",
     "text": [
      "/Users/knapen/software/miniconda3/envs/popylar/lib/python3.9/site-packages/nilearn/glm/__init__.py:55: FutureWarning: The nilearn.glm module is experimental. It may change in any future release of Nilearn.\n",
      "  warn('The nilearn.glm module is experimental. '\n"
     ]
    }
   ],
   "source": [
    "%load_ext autoreload\n",
    "%autoreload 2\n",
    "\n",
    "import os, subprocess, urllib, tempfile, importlib\n",
    "\n",
    "import numpy as np\n",
    "import scipy.stats as stats\n",
    "import matplotlib.pyplot as plt\n",
    "import seaborn as sns\n",
    "import cortex as cx\n",
    "\n",
    "from nilearn.surface import load_surf_data\n",
    "from scipy.io import loadmat\n",
    "from scipy.ndimage import gaussian_filter, zoom\n",
    "\n",
    "import popylar"
   ]
  },
  {
   "cell_type": "markdown",
   "metadata": {},
   "source": [
    "### Download data for demonstration"
   ]
  },
  {
   "cell_type": "code",
   "execution_count": 2,
   "metadata": {},
   "outputs": [],
   "source": [
    "#\n",
    "# download a pycortex subject (flatmap, etc) \n",
    "# of the 1.6 mm HCP standard surfaces from figshare\n",
    "#\n",
    "\n",
    "if not os.path.exists(os.path.join(cx.database.default_filestore, 'hcp_999999')):\n",
    "    pycortex_sj_URL = \"https://ndownloader.figshare.com/files/25768841\"\n",
    "\n",
    "    tempfolder = tempfile.gettempdir()\n",
    "    urllib.request.urlretrieve(pycortex_sj_URL, os.path.join(tempfolder, 'hcp_999999.zip'))\n",
    "    subprocess.run(['unzip', '-q', '-n', \n",
    "                    os.path.join(tempfolder, \"hcp_999999.zip\"), \n",
    "                    '-d', cx.database.default_filestore])\n",
    "\n",
    "#\n",
    "# and then download several projects' data from figshare\n",
    "# and extract the prf experiment data\n",
    "#\n",
    "with importlib.resources.files(popylar) as package:\n",
    "    prf_data_folder = package / 'data' / 'demo'  / 'prf_mapper_59k'\n",
    "    atlas_folder = package / 'data' / 'demo' / 'atlas'\n",
    "    if not os.path.exists(prf_data_folder):\n",
    "        timeseries_data_URL = 'https://ndownloader.figshare.com/articles/14096209/versions/3'\n",
    "        urllib.request.urlretrieve(timeseries_data_URL, os.path.join(tempfolder, '14096209.zip'))\n",
    "        subprocess.run(['unzip', '-qq', '-n', \n",
    "                        os.path.join(tempfolder, '14096209.zip'), '-d', tempfolder])\n",
    "        subprocess.run(['unzip', '-qq', '-n', \n",
    "                        os.path.join(tempfolder, 'prf_mapper_59k.zip'), '-d', \n",
    "                        prf_data_folder])                \n",
    "        subprocess.run(['unzip', '-qq', '-n', \n",
    "                        os.path.join(tempfolder, 'atlas.zip'), '-d', \n",
    "                        os.path.split(atlas_folder)[0]])           \n"
   ]
  },
  {
   "cell_type": "markdown",
   "metadata": {},
   "source": []
  },
  {
   "cell_type": "markdown",
   "metadata": {},
   "source": [
    "### Load data "
   ]
  },
  {
   "cell_type": "code",
   "execution_count": 3,
   "metadata": {},
   "outputs": [],
   "source": [
    "tseries_raw = np.nan_to_num(np.concatenate([load_surf_data(os.path.join(prf_data_folder, \n",
    "                                                f'sub-02_task-prf_space-59k_hemi-{hemi}_run-median_desc-bold.func.gii'))\n",
    "                                for hemi in ['L', 'R']]))\n",
    "atlas_data = np.concatenate([load_surf_data(\n",
    "        os.path.join(atlas_folder, f'Q1-Q6_RelatedParcellation210.CorticalAreas_dil_Colors.59k_fs_LR.dlabel.{hemi}.gii'))\n",
    "         for hemi in ['L', 'R']])\n",
    "atlas_data_both_hemis = np.mod(atlas_data, 180)\n",
    "design_matrix = loadmat(os.path.join(prf_data_folder, 'vis_design.mat'))['stim'].T\n",
    "sm_design_matrix = np.array([gaussian_filter(dmt, 8).T for dmt in design_matrix])\n",
    "sm_design_matrix = sm_design_matrix.transpose((2,1,0))\n",
    "sm_design_matrix = zoom(sm_design_matrix, 1/3)\n"
   ]
  },
  {
   "cell_type": "code",
   "execution_count": 4,
   "metadata": {},
   "outputs": [],
   "source": [
    "stim = popylar.stimuli.PRFStimulus2D(design_matrix=sm_design_matrix,\n",
    "                     sample_rate=1/1.5,\n",
    "                     screen_size_cm=60,\n",
    "                     screen_distance_cm=210)"
   ]
  },
  {
   "cell_type": "code",
   "execution_count": 5,
   "metadata": {},
   "outputs": [],
   "source": [
    "hrf = popylar.signal.HRF(sample_rate=stim.sample_rate,\n",
    "                        hrf_type='spm')\n",
    "\n",
    "filt = popylar.signal.DCT_Filter(n_timepoints=stim.n_timepoints,\n",
    "                sample_rate=stim.sample_rate,\n",
    "                highpass_freq= 250)\n",
    "\n",
    "model = popylar.models.Iso2DGaussianModel(\n",
    "    stimulus=stim,\n",
    "    irf=hrf)"
   ]
  },
  {
   "cell_type": "code",
   "execution_count": 6,
   "metadata": {},
   "outputs": [],
   "source": [
    "fitter = popylar.fitters.Iso2DGaussianFitter(data=tseries_raw,\n",
    "                                             model=model)"
   ]
  },
  {
   "cell_type": "code",
   "execution_count": 7,
   "metadata": {},
   "outputs": [
    {
     "name": "stderr",
     "output_type": "stream",
     "text": [
      "/Users/knapen/projects/popylar/popylar/models/gauss_2D_iso.py:43: NumbaWarning: \n",
      "Compilation is falling back to object mode WITH looplifting enabled because Function \"return_prediction\" failed type inference due to: Untyped global name 'gauss2D_iso_cart': Cannot determine Numba type of <class 'function'>\n",
      "\n",
      "File \"../popylar/models/gauss_2D_iso.py\", line 54:\n",
      "    def return_prediction(self,\n",
      "        <source elided>\n",
      "        params = parameters.valuesdict()\n",
      "        rf = gauss2D_iso_cart(x=self.stimulus.masked_coordinates[0],\n",
      "        ^\n",
      "\n",
      "  @jit\n",
      "/Users/knapen/software/miniconda3/envs/popylar/lib/python3.9/site-packages/numba/core/object_mode_passes.py:151: NumbaWarning: Function \"return_prediction\" was compiled in object mode without forceobj=True.\n",
      "\n",
      "File \"../popylar/models/gauss_2D_iso.py\", line 44:\n",
      "    @jit\n",
      "    def return_prediction(self,\n",
      "    ^\n",
      "\n",
      "  warnings.warn(errors.NumbaWarning(warn_msg,\n",
      "/Users/knapen/software/miniconda3/envs/popylar/lib/python3.9/site-packages/numba/core/object_mode_passes.py:161: NumbaDeprecationWarning: \n",
      "Fall-back from the nopython compilation path to the object mode compilation path has been detected, this is deprecated behaviour.\n",
      "\n",
      "For more information visit https://numba.pydata.org/numba-doc/latest/reference/deprecation.html#deprecation-of-object-mode-fall-back-behaviour-when-using-jit\n",
      "\n",
      "File \"../popylar/models/gauss_2D_iso.py\", line 44:\n",
      "    @jit\n",
      "    def return_prediction(self,\n",
      "    ^\n",
      "\n",
      "  warnings.warn(errors.NumbaDeprecationWarning(msg,\n"
     ]
    }
   ],
   "source": [
    "fitter.create_grid_predictions(x_grid=np.linspace(-10,10,20), \n",
    "                               y_grid=np.linspace(-10,10,20),\n",
    "                               size_grid=np.linspace(0.5,4,20)**2)"
   ]
  },
  {
   "cell_type": "code",
   "execution_count": 12,
   "metadata": {},
   "outputs": [
    {
     "ename": "TypeError",
     "evalue": "fit_glm() missing 1 required positional argument: 'self'",
     "output_type": "error",
     "traceback": [
      "\u001b[0;31m---------------------------------------------------------------------------\u001b[0m",
      "\u001b[0;31mTypeError\u001b[0m                                 Traceback (most recent call last)",
      "\u001b[0;32m/var/folders/vr/m_p1yr2d687bgmqdsr5_x5qr0000gn/T/ipykernel_8902/3344001427.py\u001b[0m in \u001b[0;36m<module>\u001b[0;34m\u001b[0m\n\u001b[0;32m----> 1\u001b[0;31m \u001b[0mfitter\u001b[0m\u001b[0;34m.\u001b[0m\u001b[0mgrid_fit\u001b[0m\u001b[0;34m(\u001b[0m\u001b[0;34m)\u001b[0m\u001b[0;34m\u001b[0m\u001b[0;34m\u001b[0m\u001b[0m\n\u001b[0m",
      "\u001b[0;32m~/projects/popylar/popylar/fitters/gauss_2D_iso.py\u001b[0m in \u001b[0;36mgrid_fit\u001b[0;34m(self, regressor_df, **kwargs)\u001b[0m\n\u001b[1;32m     92\u001b[0m                  \u001b[0mregressor_df\u001b[0m\u001b[0;34m:\u001b[0m \u001b[0mpd\u001b[0m\u001b[0;34m.\u001b[0m\u001b[0mDataFrame\u001b[0m \u001b[0;34m=\u001b[0m \u001b[0;32mNone\u001b[0m\u001b[0;34m,\u001b[0m\u001b[0;34m\u001b[0m\u001b[0;34m\u001b[0m\u001b[0m\n\u001b[1;32m     93\u001b[0m                  **kwargs) -> None:\n\u001b[0;32m---> 94\u001b[0;31m         super().grid_fit(regressor_df=regressor_df,\n\u001b[0m\u001b[1;32m     95\u001b[0m                        **kwargs)\n\u001b[1;32m     96\u001b[0m         \u001b[0mself\u001b[0m\u001b[0;34m.\u001b[0m\u001b[0mcollect_grid_results\u001b[0m\u001b[0;34m(\u001b[0m\u001b[0mcolumns\u001b[0m\u001b[0;34m=\u001b[0m\u001b[0mregressor_df\u001b[0m\u001b[0;34m.\u001b[0m\u001b[0mcolumns\u001b[0m\u001b[0;34m)\u001b[0m\u001b[0;34m\u001b[0m\u001b[0;34m\u001b[0m\u001b[0m\n",
      "    \u001b[0;31m[... skipping hidden 13 frame]\u001b[0m\n",
      "\u001b[0;32m~/software/miniconda3/envs/popylar/lib/python3.9/site-packages/jax/linear_util.py\u001b[0m in \u001b[0;36mcall_wrapped\u001b[0;34m(self, *args, **kwargs)\u001b[0m\n\u001b[1;32m    164\u001b[0m \u001b[0;34m\u001b[0m\u001b[0m\n\u001b[1;32m    165\u001b[0m     \u001b[0;32mtry\u001b[0m\u001b[0;34m:\u001b[0m\u001b[0;34m\u001b[0m\u001b[0;34m\u001b[0m\u001b[0m\n\u001b[0;32m--> 166\u001b[0;31m       \u001b[0mans\u001b[0m \u001b[0;34m=\u001b[0m \u001b[0mself\u001b[0m\u001b[0;34m.\u001b[0m\u001b[0mf\u001b[0m\u001b[0;34m(\u001b[0m\u001b[0;34m*\u001b[0m\u001b[0margs\u001b[0m\u001b[0;34m,\u001b[0m \u001b[0;34m**\u001b[0m\u001b[0mdict\u001b[0m\u001b[0;34m(\u001b[0m\u001b[0mself\u001b[0m\u001b[0;34m.\u001b[0m\u001b[0mparams\u001b[0m\u001b[0;34m,\u001b[0m \u001b[0;34m**\u001b[0m\u001b[0mkwargs\u001b[0m\u001b[0;34m)\u001b[0m\u001b[0;34m)\u001b[0m\u001b[0;34m\u001b[0m\u001b[0;34m\u001b[0m\u001b[0m\n\u001b[0m\u001b[1;32m    167\u001b[0m     \u001b[0;32mexcept\u001b[0m\u001b[0;34m:\u001b[0m\u001b[0;34m\u001b[0m\u001b[0;34m\u001b[0m\u001b[0m\n\u001b[1;32m    168\u001b[0m       \u001b[0;31m# Some transformations yield from inside context managers, so we have to\u001b[0m\u001b[0;34m\u001b[0m\u001b[0;34m\u001b[0m\u001b[0m\n",
      "\u001b[0;31mTypeError\u001b[0m: fit_glm() missing 1 required positional argument: 'self'"
     ]
    }
   ],
   "source": [
    "fitter.grid_fit()"
   ]
  },
  {
   "cell_type": "code",
   "execution_count": null,
   "metadata": {},
   "outputs": [],
   "source": [
    "from popylar.rf import gauss2D_iso_cart\n",
    "rf = gauss2D_iso_cart(x=stim.masked_coordinates[1],\n",
    "                    y=stim.masked_coordinates[0],\n",
    "                    mu=[4, -1],\n",
    "                    sigma=1.0)"
   ]
  },
  {
   "cell_type": "code",
   "execution_count": null,
   "metadata": {},
   "outputs": [
    {
     "data": {
      "text/plain": [
       "<matplotlib.image.AxesImage at 0x7fda72530e50>"
      ]
     },
     "execution_count": 47,
     "metadata": {},
     "output_type": "execute_result"
    },
    {
     "data": {
      "image/png": "[encoded data removed]",
      "text/plain": [
       "<Figure size 1440x504 with 2 Axes>"
      ]
     },
     "metadata": {
      "needs_background": "light"
     },
     "output_type": "display_data"
    }
   ],
   "source": [
    "f, ss = plt.subplots(1,2,figsize=(20,7))\n",
    "ss[0].imshow(rf.reshape(stim.y.T.shape))\n",
    "ss[1].imshow(np.rot90(rf.reshape(stim.y.T.shape)))"
   ]
  },
  {
   "cell_type": "code",
   "execution_count": null,
   "metadata": {},
   "outputs": [],
   "source": []
  }
 ],
 "metadata": {
  "interpreter": {
   "hash": "284b40ed76c0ddaa7a2d59fb0f3543062c5184cf760bb26e668bfe6d734deba2"
  },
  "kernelspec": {
   "display_name": "Python 3.9.7 ('popylar')",
   "language": "python",
   "name": "python3"
  },
  "language_info": {
   "codemirror_mode": {
    "name": "ipython",
    "version": 3
   },
   "file_extension": ".py",
   "mimetype": "text/x-python",
   "name": "python",
   "nbconvert_exporter": "python",
   "pygments_lexer": "ipython3",
   "version": "3.9.7"
  },
  "orig_nbformat": 4
 },
 "nbformat": 4,
 "nbformat_minor": 2
}
